{
 "cells": [
  {
   "cell_type": "markdown",
   "metadata": {},
   "source": [
    "# U.S. Medical Insurance Costs"
   ]
  },
  {
   "cell_type": "code",
   "execution_count": 1,
   "metadata": {},
   "outputs": [],
   "source": [
    "import csv"
   ]
  },
  {
   "cell_type": "markdown",
   "metadata": {},
   "source": [
    "Questions for analysis\n"
   ]
  },
  {
   "cell_type": "markdown",
   "metadata": {},
   "source": [
    "1. Difference in insurance cost between smokers and non-smokers.\n",
    "2. Insurance cost based off of BMI levels.\n",
    "3. Does having both a High BMi and being a smoker make the insurance cost higher.\n",
    "\n",
    "\n"
   ]
  },
  {
   "cell_type": "markdown",
   "metadata": {},
   "source": [
    "Does a Higher BMI and being a Smoker increase insurance cost?\n"
   ]
  },
  {
   "cell_type": "markdown",
   "metadata": {},
   "source": [
    "Insurance cost tends to rise based of the individuals health status; usually if they are more of a risk to the insurance company, then the patient would have an increased insurance cost.\n",
    "In this project, I'm going to see if the insurance cost does increase based off of the patients bmi and smoking status.\n"
   ]
  },
  {
   "cell_type": "code",
   "execution_count": 6,
   "metadata": {},
   "outputs": [],
   "source": [
    "age = []\n",
    "sex = []\n",
    "bmi = []\n",
    "children = []\n",
    "smoker = []\n",
    "region = []\n",
    "insurance_cost = []"
   ]
  },
  {
   "cell_type": "code",
   "execution_count": 7,
   "metadata": {},
   "outputs": [],
   "source": [
    "with open('insurance.csv') as insurance_csv:\n",
    "    insurance_reader = csv.DictReader(insurance_csv)\n",
    "    for row in insurance_reader:\n",
    "        age.append(row['age'])\n",
    "        sex.append(row['sex'])\n",
    "        bmi.append(float(row['bmi']))\n",
    "        children.append(row['children'])\n",
    "        smoker.append(row['smoker'])\n",
    "        region.append(row['region'])\n",
    "        insurance_cost.append(float(row['charges']))"
   ]
  },
  {
   "cell_type": "code",
   "execution_count": 52,
   "metadata": {},
   "outputs": [],
   "source": [
    "def create_dictionary(age, sex, bmi, children, smoker, region, insurance_cost):\n",
    "    patient_info ={}\n",
    "    for element in range(len(age)):\n",
    "        patient_info[element] = { 'age': age[element],\n",
    "                                  'sex': sex[element],\n",
    "                                  'bmi': bmi[element], \n",
    "                                  'children': children[element], \n",
    "                                  'smoker': smoker[element], \n",
    "                                  'region': region[element], \n",
    "                                  'insurance cost': insurance_cost[element] \n",
    "        }\n",
    "    return patient_info\n",
    "patient_records = create_dictionary(age, sex, bmi, children, smoker, region, insurance_cost)"
   ]
  },
  {
   "cell_type": "markdown",
   "metadata": {},
   "source": [
    "The function below shows that being a smoker will have a higher insurance cost than a non-smoker.\n"
   ]
  },
  {
   "cell_type": "code",
   "execution_count": 38,
   "metadata": {},
   "outputs": [
    {
     "name": "stdout",
     "output_type": "stream",
     "text": [
      "The difference in the average insurance cost between smoker and non-smoker is: 23615.96\n"
     ]
    }
   ],
   "source": [
    "smoking_cost = list(zip(smoker,insurance_cost))\n",
    "def smoker_nonsmoker(smoking_cost):\n",
    "    smoker_count = 0\n",
    "    nonsmoker_count = 0\n",
    "    smoker_cost = 0\n",
    "    nonsmoker_cost = 0\n",
    "    for element in smoking_cost:\n",
    "        if 'yes' in element:\n",
    "            smoker_count += 1\n",
    "            smoker_cost += element[1]\n",
    "        if 'no'in element:\n",
    "                nonsmoker_count += 1 \n",
    "                nonsmoker_cost += element[1] \n",
    "    avg_total_smoker =  smoker_cost / smoker_count\n",
    "    avg_total_nonsmoker = nonsmoker_cost / nonsmoker_count\n",
    "    diff_in_smoking = abs(avg_total_smoker - avg_total_nonsmoker)\n",
    "    return round(diff_in_smoking, 2), avg_total_smoker, avg_total_nonsmoker\n",
    "print(\"The average insurance cost of a smoker is: \" + str(smoker))\n",
    "print(\"The difference in the average insurance cost between smoker and non-smoker is: \" + str(smoker_nonsmoker(smoking_cost)))         "
   ]
  },
  {
   "cell_type": "markdown",
   "metadata": {},
   "source": [
    "This function is to show the insurance cost based off of high BMI levels. The ranges of BMi is: 18.5 < 25 (healthy weight), 25 < 30 (overweight), 30+ (obesity)"
   ]
  },
  {
   "cell_type": "code",
   "execution_count": 50,
   "metadata": {},
   "outputs": [
    {
     "ename": "TypeError",
     "evalue": "'<=' not supported between instances of 'tuple' and 'int'",
     "output_type": "error",
     "traceback": [
      "\u001b[1;31m---------------------------------------------------------------------------\u001b[0m",
      "\u001b[1;31mTypeError\u001b[0m                                 Traceback (most recent call last)",
      "\u001b[1;32me:\\Projects\\Portfolio Projects\\python-portfolio-project-starter-files\\python-portfolio-project-starter-files\\us-medical-insurance-costs.ipynb Cell 12\u001b[0m line \u001b[0;36m2\n\u001b[0;32m     <a href='vscode-notebook-cell:/e%3A/Projects/Portfolio%20Projects/python-portfolio-project-starter-files/python-portfolio-project-starter-files/us-medical-insurance-costs.ipynb#X20sZmlsZQ%3D%3D?line=20'>21</a>\u001b[0m     avg_obesity \u001b[39m=\u001b[39m \u001b[39mround\u001b[39m(obese_cost \u001b[39m/\u001b[39m obese, \u001b[39m2\u001b[39m)\n\u001b[0;32m     <a href='vscode-notebook-cell:/e%3A/Projects/Portfolio%20Projects/python-portfolio-project-starter-files/python-portfolio-project-starter-files/us-medical-insurance-costs.ipynb#X20sZmlsZQ%3D%3D?line=21'>22</a>\u001b[0m     \u001b[39mreturn\u001b[39;00m avg_normal_weight, avg_overweight, avg_obesity\n\u001b[1;32m---> <a href='vscode-notebook-cell:/e%3A/Projects/Portfolio%20Projects/python-portfolio-project-starter-files/python-portfolio-project-starter-files/us-medical-insurance-costs.ipynb#X20sZmlsZQ%3D%3D?line=22'>23</a>\u001b[0m \u001b[39mprint\u001b[39m(\u001b[39m\"\u001b[39m\u001b[39mThe average cost of normal weight is: \u001b[39m\u001b[39m\"\u001b[39m \u001b[39m+\u001b[39m \u001b[39mstr\u001b[39m(bmi_level(bmi_cost)))\n",
      "\u001b[1;32me:\\Projects\\Portfolio Projects\\python-portfolio-project-starter-files\\python-portfolio-project-starter-files\\us-medical-insurance-costs.ipynb Cell 12\u001b[0m line \u001b[0;36m1\n\u001b[0;32m     <a href='vscode-notebook-cell:/e%3A/Projects/Portfolio%20Projects/python-portfolio-project-starter-files/python-portfolio-project-starter-files/us-medical-insurance-costs.ipynb#X20sZmlsZQ%3D%3D?line=10'>11</a>\u001b[0m     normal_weight\u001b[39m+\u001b[39m\u001b[39m=\u001b[39m \u001b[39m1\u001b[39m\n\u001b[0;32m     <a href='vscode-notebook-cell:/e%3A/Projects/Portfolio%20Projects/python-portfolio-project-starter-files/python-portfolio-project-starter-files/us-medical-insurance-costs.ipynb#X20sZmlsZQ%3D%3D?line=11'>12</a>\u001b[0m     normal_weight_cost \u001b[39m+\u001b[39m\u001b[39m=\u001b[39m element[\u001b[39m1\u001b[39m]\n\u001b[1;32m---> <a href='vscode-notebook-cell:/e%3A/Projects/Portfolio%20Projects/python-portfolio-project-starter-files/python-portfolio-project-starter-files/us-medical-insurance-costs.ipynb#X20sZmlsZQ%3D%3D?line=12'>13</a>\u001b[0m \u001b[39mif\u001b[39;00m element \u001b[39m<\u001b[39m\u001b[39m=\u001b[39m \u001b[39m26\u001b[39m \u001b[39mand\u001b[39;00m bmi_cost \u001b[39m<\u001b[39m \u001b[39m31\u001b[39m:\n\u001b[0;32m     <a href='vscode-notebook-cell:/e%3A/Projects/Portfolio%20Projects/python-portfolio-project-starter-files/python-portfolio-project-starter-files/us-medical-insurance-costs.ipynb#X20sZmlsZQ%3D%3D?line=13'>14</a>\u001b[0m     overweight \u001b[39m+\u001b[39m\u001b[39m=\u001b[39m \u001b[39m1\u001b[39m\n\u001b[0;32m     <a href='vscode-notebook-cell:/e%3A/Projects/Portfolio%20Projects/python-portfolio-project-starter-files/python-portfolio-project-starter-files/us-medical-insurance-costs.ipynb#X20sZmlsZQ%3D%3D?line=14'>15</a>\u001b[0m     overweight_cost \u001b[39m+\u001b[39m\u001b[39m=\u001b[39m element[\u001b[39m1\u001b[39m]\n",
      "\u001b[1;31mTypeError\u001b[0m: '<=' not supported between instances of 'tuple' and 'int'"
     ]
    }
   ],
   "source": [
    "bmi_cost = list(zip(bmi,insurance_cost))\n",
    "def bmi_level(bmi_cost):\n",
    "    normal_weight = 0\n",
    "    normal_weight_cost = 0\n",
    "    overweight = 0\n",
    "    overweight_cost = 0\n",
    "    obese = 0 \n",
    "    obese_cost = 0\n",
    "    for element in bmi_cost:\n",
    "        if element == 18.5 and bmi_cost < 26:\n",
    "            normal_weight+= 1\n",
    "            normal_weight_cost += element[1]\n",
    "        if element <= 26 and bmi_cost < 31:\n",
    "            overweight += 1\n",
    "            overweight_cost += element[1]\n",
    "        if element > 31:\n",
    "            obese += 1\n",
    "            obese_cost += element[1]\n",
    "    avg_normal_weight  = round(normal_weight_cost / normal_weight , 2)\n",
    "    avg_overweight = round(overweight_cost / overweight, 2)\n",
    "    avg_obesity = round(obese_cost / obese, 2)\n",
    "    return avg_normal_weight, avg_overweight, avg_obesity\n",
    "print(\"The average cost of normal weight is: \" + str(bmi_level(bmi_cost)))"
   ]
  }
 ],
 "metadata": {
  "kernelspec": {
   "display_name": "Python 3",
   "language": "python",
   "name": "python3"
  },
  "language_info": {
   "codemirror_mode": {
    "name": "ipython",
    "version": 3
   },
   "file_extension": ".py",
   "mimetype": "text/x-python",
   "name": "python",
   "nbconvert_exporter": "python",
   "pygments_lexer": "ipython3",
   "version": "3.11.4"
  }
 },
 "nbformat": 4,
 "nbformat_minor": 4
}
